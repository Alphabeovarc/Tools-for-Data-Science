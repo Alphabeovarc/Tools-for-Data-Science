{
  "metadata": {
    "language_info": {
      "codemirror_mode": {
        "name": "python",
        "version": 3
      },
      "file_extension": ".py",
      "mimetype": "text/x-python",
      "name": "python",
      "nbconvert_exporter": "python",
      "pygments_lexer": "ipython3",
      "version": "3.8"
    },
    "kernelspec": {
      "name": "python",
      "display_name": "Pyolite",
      "language": "python"
    }
  },
  "nbformat_minor": 4,
  "nbformat": 4,
  "cells": [
    {
      "cell_type": "markdown",
      "source": "# My Jupyter Notebook on IBM Watson Studio",
      "metadata": {
        "tags": []
      }
    },
    {
      "cell_type": "markdown",
      "source": "**Jaden** \n\nCurrent Occupation: Controls Engineer\nDesired Occupation: Data Scientist or Software Engineer",
      "metadata": {}
    },
    {
      "cell_type": "markdown",
      "source": "*I'm interested in Data Science because I feel like it's a very strong field that can provide me both job and economic security while also being a fun, interesting, and ever changing field that I could enjoy working in for a long time.*",
      "metadata": {}
    },
    {
      "cell_type": "markdown",
      "source": "### The code below simply displays 2 to the 10th power",
      "metadata": {}
    },
    {
      "cell_type": "code",
      "source": "2**10",
      "metadata": {
        "trusted": true
      },
      "execution_count": 2,
      "outputs": [
        {
          "execution_count": 2,
          "output_type": "execute_result",
          "data": {
            "text/plain": "1024"
          },
          "metadata": {}
        }
      ]
    },
    {
      "cell_type": "markdown",
      "source": "|Index|Animal|Genus|Wiki Link|Picture|\n|--|--|--|--|--|\n|0|Cat|*Felis*|<a href=\"https://en.wikipedia.org/wiki/Cat\" target=\"_blank\">Cat Wiki</a>|![Cat Pictures](https://upload.wikimedia.org/wikipedia/commons/thumb/0/0b/Cat_poster_1.jpg/1280px-Cat_poster_1.jpg)|\n|1|Dog|*Canis*|<a href=\"https://en.wikipedia.org/wiki/Dog\" target=\"_blank\">Dog Wiki</a>|![Dog Pictures](https://upload.wikimedia.org/wikipedia/commons/9/99/Brooks_Chase_Ranger_of_Jolly_Dogs_Jack_Russell.jpg)|\n\n\n\n",
      "metadata": {}
    }
  ]
}